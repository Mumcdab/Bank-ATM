{
 "cells": [
  {
   "cell_type": "markdown",
   "id": "e0e0b204",
   "metadata": {},
   "source": [
    "### Design a program to mimic the operation of using an ATM of a bank. This program should perform the following operation:"
   ]
  },
  {
   "cell_type": "code",
   "execution_count": null,
   "id": "36e0293d",
   "metadata": {},
   "outputs": [],
   "source": [
    "# Display the menu (\"Check Balance\" , \"Deposit\", \"Withdraw\", \"EXIT\")\n",
    "class Atm:\n",
    "    def__init__(self, balance=0):\n",
    "    self.balance=balance\n",
    "        \n",
    "# Validate the customer pin. If the customer pin is correct, then it should display \"Welcome! and display the menu, \n",
    "#otherwise it can allow customer to try for a maximum of 3 times after which the customer card would be blocked.        \n",
    "    def login(self,pin):\n",
    "        pin=int(input(\"Enter your pin: \"))\n",
    "        for pin in range(0,2):\n",
    "            if pin==4444:\n",
    "            print(\"*********Welcome to Lloyd's BanK******\")\n",
    "            print (\"*********ATM MENU******\")\n",
    "            print(\"1. Check Balance\")\n",
    "            print(\"2. Deposit\")\n",
    "            print(\"3. Withdraw\")\n",
    "            print(\"4. EXIT\")\n",
    "            print (\"************************************\")\n",
    "            option=int(input(\"Enter your options: \"))    \n",
    "            else:\n",
    "            print(\"Your card is now blocked\")\n",
    "            \n",
    "# Check the current balance of the customer (You can assume customer has zero balance at first)\n",
    "    def checkBalance(self):\n",
    "        print(\"Your current balance is:\", balance)\n",
    "        \n",
    "        \n",
    "# Deposit money to your account.  Display the message \"Successful deposit!\" and show current balance  \n",
    "#if amount to withdraw is possible otherwise \"Insufficient balance!\".\n",
    "    def deposit(self):\n",
    "        amt=float(input(\"Enter deposit amount: \"))\n",
    "        self.balance=self.balance+amt\n",
    "        print(\"Successful deposit!:\", amt)\n",
    "        print(\"Current balance is:\", balance)\n",
    "        \n",
    "# Withdraw money from the account and display balance amount. Display the message \"Successful withdrawal!\"        \n",
    "    def withdraw(self):\n",
    "        amt=float(input(\"Enter withdrawal amount: \"))\n",
    "        if self.balance>=amt:\n",
    "            self.balance=self.balance-amt\n",
    "            print(\"Current balance is:\", balance)\n",
    "            print(\"Successful withdrawal!:\", amt)\n",
    "        else:\n",
    "            print(\"Insufficient balance!\")\n",
    "    \n",
    "    def EXIT(self):\n",
    "        \n",
    "        \n",
    "    \n",
    "\n",
    "\n",
    "\n",
    "\n",
    "\n",
    "\n",
    "\n",
    "\n",
    "# The program should exit when customer presses the EXIT button"
   ]
  }
 ],
 "metadata": {
  "kernelspec": {
   "display_name": "Python 3 (ipykernel)",
   "language": "python",
   "name": "python3"
  },
  "language_info": {
   "codemirror_mode": {
    "name": "ipython",
    "version": 3
   },
   "file_extension": ".py",
   "mimetype": "text/x-python",
   "name": "python",
   "nbconvert_exporter": "python",
   "pygments_lexer": "ipython3",
   "version": "3.9.12"
  }
 },
 "nbformat": 4,
 "nbformat_minor": 5
}
